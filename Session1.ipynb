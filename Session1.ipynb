{
 "cells": [
  {
   "cell_type": "code",
   "execution_count": 1,
   "metadata": {},
   "outputs": [],
   "source": [
    "#Task: All digits must be the same\n",
    "# given number x is noy divisible by 2 and 5 (relatively prime with 10)\n",
    "# program taking input x and retyrn the smallest beautiful number "
   ]
  },
  {
   "cell_type": "code",
   "execution_count": 2,
   "metadata": {},
   "outputs": [
    {
     "data": {
      "text/plain": [
       "'accuracy'"
      ]
     },
     "execution_count": 2,
     "metadata": {},
     "output_type": "execute_result"
    }
   ],
   "source": [
    "def is_beautiful(number):\n",
    "    # Check if all digits are the same and not equal to zero\n",
    "    return len(set(str(number))) == 1 and '0' not in str(number)\n",
    "\n",
    "def find_smallest_beautiful_number(x):\n",
    "    # Start from x and check multiples until a beautiful number is found\n",
    "    multiple = x\n",
    "    while not is_beautiful(multiple):\n",
    "        multiple += x\n",
    "    return multiple\n",
    "\n",
    "def main():\n",
    "    try:\n",
    "        x = int(input(\"Enter a number (not divisible by 2 and 5): \"))\n",
    "        if x % 2 != 0 and x % 5 != 0:\n",
    "            result = find_smallest_beautiful_number(x)\n",
    "            print(f\"The smallest beautiful number divisible by {x} is: {result}\")\n",
    "        else:\n",
    "            print(\"Please enter a number that is not divisible by 2 and 5.\")\n",
    "    except ValueError:\n",
    "        print(\"Invalid input. Please enter a valid integer.\")\n",
    "\n",
    "if __name__ == \"__main__\":\n",
    "    main()\n"
   ]
  },
  {
   "cell_type": "code",
   "execution_count": 12,
   "metadata": {},
   "outputs": [
    {
     "name": "stdout",
     "output_type": "stream",
     "text": [
      "First word : accuracy\n",
      "Length of first word: 8\n",
      "Second word : cylinder\n",
      "Length of second word: 8\n",
      "Both words can be linked with the subword 'cy'.\n"
     ]
    }
   ],
   "source": [
    "def find_linking_subword(word1, word2):\n",
    "    len_word1 = len(word1)\n",
    "    len_word2 = len(word2)\n",
    "\n",
    "    # Find the minimum length to iterate over\n",
    "    min_len = min(len_word1, len_word2)\n",
    "\n",
    "    # Iterate from the beginning to find the longest subword\n",
    "    linking_subword = ''\n",
    "    for i in range(1, min_len + 1):\n",
    "        if word1[-i:] == word2[:i]:\n",
    "            linking_subword = word1[-i:]\n",
    "    \n",
    "    return linking_subword\n",
    "\n",
    "def word_linking_game():\n",
    "    # Input the first word\n",
    "    word1 = input(\"First word: \")\n",
    "    print(\"First word :\", word1)\n",
    "    length_word1 = len(word1)\n",
    "    print(\"Length of first word:\", length_word1)\n",
    "\n",
    "    # Input the second word\n",
    "    word2 = input(\"Second word: \")\n",
    "    print(\"Second word :\", word2)\n",
    "    length_word2 = len(word2)\n",
    "    print(\"Length of second word:\", length_word2)\n",
    "\n",
    "    # Check if the words can be linked\n",
    "    linking_subword = find_linking_subword(word1, word2)\n",
    "\n",
    "    if linking_subword:\n",
    "        print(f\"Both words can be linked with the subword '{linking_subword}'.\")\n",
    "    else:\n",
    "        print(\"Both words cannot be linked.\")\n",
    "\n",
    "# Run the word linking game\n",
    "word_linking_game()\n"
   ]
  }
 ],
 "metadata": {
  "kernelspec": {
   "display_name": "Python 3",
   "language": "python",
   "name": "python3"
  },
  "language_info": {
   "codemirror_mode": {
    "name": "ipython",
    "version": 3
   },
   "file_extension": ".py",
   "mimetype": "text/x-python",
   "name": "python",
   "nbconvert_exporter": "python",
   "pygments_lexer": "ipython3",
   "version": "3.11.5"
  }
 },
 "nbformat": 4,
 "nbformat_minor": 2
}
